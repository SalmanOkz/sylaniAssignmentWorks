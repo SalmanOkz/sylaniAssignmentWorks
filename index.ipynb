{
 "cells": [
  {
   "cell_type": "code",
   "execution_count": 1,
   "id": "0b7dee0a",
   "metadata": {},
   "outputs": [
    {
     "name": "stdout",
     "output_type": "stream",
     "text": [
      "hello world\n"
     ]
    }
   ],
   "source": [
    "print(\"hello world\")"
   ]
  },
  {
   "cell_type": "code",
   "execution_count": 45,
   "id": "4e1fb67e",
   "metadata": {},
   "outputs": [],
   "source": [
    "customers = [\n",
    "{\n",
    "\"customer id\": 0,\n",
    "\"first name\":\"John\",\n",
    "\"last name\": \"Ogden\",\n",
    "\"address\": \"301 Arbor Rd.\",\n",
    "},\n",
    "{\n",
    "\"customer id\": 1,\n",
    "\"first name\":\"Ann\",\n",
    "\"last name\": \"Sattermyer\",\n",
    "\"address\": \"PO Box 1145\",\n",
    "},\n",
    "{\n",
    "\"customer id\": 2,\n",
    "\"first name\":\"Jill\",\n",
    "\"last name\": \"Somers\",\n",
    "\"address\": \"3 Main St.\",\n",
    "},\n",
    "]"
   ]
  },
  {
   "cell_type": "code",
   "execution_count": 55,
   "id": "3d10a106",
   "metadata": {},
   "outputs": [
    {
     "data": {
      "text/plain": [
       "{0: {'customer id': 0,\n",
       "  'first name': 'John',\n",
       "  'last name': 'Ogden',\n",
       "  'address': '301 Arbor Rd.',\n",
       "  'age': 30},\n",
       " 1: {'customer id': 1,\n",
       "  'first name': 'Ann',\n",
       "  'last name': 'Sattermyer',\n",
       "  'address': 'PO Box 1145',\n",
       "  'age': 30},\n",
       " 2: {'customer id': 2,\n",
       "  'first name': 'Jill',\n",
       "  'last name': 'Somers',\n",
       "  'address': '3 Main St.',\n",
       "  'age': 30}}"
      ]
     },
     "execution_count": 55,
     "metadata": {},
     "output_type": "execute_result"
    }
   ],
   "source": [
    "{customer['customer id']: customer\n",
    "  for customer in customers}"
   ]
  },
  {
   "cell_type": "code",
   "execution_count": 54,
   "id": "04d1a670",
   "metadata": {},
   "outputs": [
    {
     "data": {
      "text/plain": [
       "[{'customer id': 0,\n",
       "  'first name': 'John',\n",
       "  'last name': 'Ogden',\n",
       "  'address': '301 Arbor Rd.',\n",
       "  'age': 30},\n",
       " {'customer id': 1,\n",
       "  'first name': 'Ann',\n",
       "  'last name': 'Sattermyer',\n",
       "  'address': 'PO Box 1145',\n",
       "  'age': 30},\n",
       " {'customer id': 2,\n",
       "  'first name': 'Jill',\n",
       "  'last name': 'Somers',\n",
       "  'address': '3 Main St.',\n",
       "  'age': 30}]"
      ]
     },
     "execution_count": 54,
     "metadata": {},
     "output_type": "execute_result"
    }
   ],
   "source": [
    "customers"
   ]
  },
  {
   "cell_type": "code",
   "execution_count": 18,
   "id": "55fb1582",
   "metadata": {},
   "outputs": [],
   "source": [
    "for customer in customers:\n",
    "    customer['age'] = 10"
   ]
  },
  {
   "cell_type": "code",
   "execution_count": 56,
   "id": "dcbd98b0",
   "metadata": {},
   "outputs": [
    {
     "data": {
      "text/plain": [
       "{'customer id': 2,\n",
       " 'first name': 'Jill',\n",
       " 'last name': 'Somers',\n",
       " 'address': '3 Main St.',\n",
       " 'age': None}"
      ]
     },
     "execution_count": 56,
     "metadata": {},
     "output_type": "execute_result"
    }
   ],
   "source": [
    "customer"
   ]
  },
  {
   "cell_type": "code",
   "execution_count": 50,
   "id": "df063942",
   "metadata": {},
   "outputs": [
    {
     "data": {
      "text/plain": [
       "[30, 30, 30]"
      ]
     },
     "execution_count": 50,
     "metadata": {},
     "output_type": "execute_result"
    }
   ],
   "source": [
    "[customer.setdefault('age', 30) for customer in customers] "
   ]
  },
  {
   "cell_type": "code",
   "execution_count": null,
   "id": "6409f9eb",
   "metadata": {},
   "outputs": [],
   "source": [
    "for customer in customers:\n",
    "    {**customer, 'age':None}"
   ]
  },
  {
   "cell_type": "code",
   "execution_count": null,
   "id": "a05d94f4",
   "metadata": {},
   "outputs": [
    {
     "data": {
      "text/plain": [
       "[30, 30, 30]"
      ]
     },
     "execution_count": 29,
     "metadata": {},
     "output_type": "execute_result"
    }
   ],
   "source": [
    "customers = [{**customer ,'age':None} for customer in customers]"
   ]
  },
  {
   "cell_type": "code",
   "execution_count": 33,
   "id": "c6d32daa",
   "metadata": {},
   "outputs": [
    {
     "data": {
      "text/plain": [
       "[{'customer id': 0,\n",
       "  'first name': 'John',\n",
       "  'last name': 'Ogden',\n",
       "  'address': '301 Arbor Rd.',\n",
       "  'age': None},\n",
       " {'customer id': 1,\n",
       "  'first name': 'Ann',\n",
       "  'last name': 'Sattermyer',\n",
       "  'address': 'PO Box 1145',\n",
       "  'age': None},\n",
       " {'customer id': 2,\n",
       "  'first name': 'Jill',\n",
       "  'last name': 'Somers',\n",
       "  'address': '3 Main St.',\n",
       "  'age': None}]"
      ]
     },
     "execution_count": 33,
     "metadata": {},
     "output_type": "execute_result"
    }
   ],
   "source": [
    "new_dic_list_with_age = []\n",
    "\n",
    "for customer in customers:\n",
    "    customer.setdefault(\"age\")\n",
    "    new_dic_list_with_age.append(customer)\n",
    "\n",
    "new_dic_list_with_age"
   ]
  },
  {
   "cell_type": "code",
   "execution_count": 35,
   "id": "0eba4a7e",
   "metadata": {},
   "outputs": [],
   "source": [
    "new_dic_list_with_age = [{**customer, 'age': None} for customer in customers]"
   ]
  },
  {
   "cell_type": "code",
   "execution_count": 36,
   "id": "124d87be",
   "metadata": {},
   "outputs": [
    {
     "data": {
      "text/plain": [
       "[{'customer id': 0,\n",
       "  'first name': 'John',\n",
       "  'last name': 'Ogden',\n",
       "  'address': '301 Arbor Rd.',\n",
       "  'age': None},\n",
       " {'customer id': 1,\n",
       "  'first name': 'Ann',\n",
       "  'last name': 'Sattermyer',\n",
       "  'address': 'PO Box 1145',\n",
       "  'age': None},\n",
       " {'customer id': 2,\n",
       "  'first name': 'Jill',\n",
       "  'last name': 'Somers',\n",
       "  'address': '3 Main St.',\n",
       "  'age': None}]"
      ]
     },
     "execution_count": 36,
     "metadata": {},
     "output_type": "execute_result"
    }
   ],
   "source": [
    "new_dic_list_with_age"
   ]
  },
  {
   "cell_type": "code",
   "execution_count": 38,
   "id": "63997837",
   "metadata": {},
   "outputs": [
    {
     "data": {
      "text/plain": [
       "{0: {'customer id': 0,\n",
       "  'first name': 'John',\n",
       "  'last name': 'Ogden',\n",
       "  'address': '301 Arbor Rd.'},\n",
       " 1: {'customer id': 1,\n",
       "  'first name': 'Ann',\n",
       "  'last name': 'Sattermyer',\n",
       "  'address': 'PO Box 1145'},\n",
       " 2: {'customer id': 2,\n",
       "  'first name': 'Jill',\n",
       "  'last name': 'Somers',\n",
       "  'address': '3 Main St.'}}"
      ]
     },
     "execution_count": 38,
     "metadata": {},
     "output_type": "execute_result"
    }
   ],
   "source": [
    "{customer['customer id']: customer for customer in customers}"
   ]
  },
  {
   "cell_type": "code",
   "execution_count": null,
   "id": "f3c1925d",
   "metadata": {},
   "outputs": [
    {
     "data": {
      "text/plain": [
       "19.531249999999996"
      ]
     },
     "execution_count": 43,
     "metadata": {},
     "output_type": "execute_result"
    }
   ],
   "source": [
    "def bmi(height,weight):\n",
    "    body_mass = weight / (height **2)\n",
    "    return body_mass\n",
    "\n",
    "height = float(input(\"Enter Your height: \"))\n",
    "\n",
    "weight = float(input(\"Enter Your weight: \"))\n",
    "bmi(height,weight)"
   ]
  },
  {
   "cell_type": "code",
   "execution_count": null,
   "id": "496fcbaf",
   "metadata": {},
   "outputs": [],
   "source": [
    "#key-words argument's\n",
    "#positional_arguments"
   ]
  },
  {
   "cell_type": "code",
   "execution_count": 1,
   "id": "48e3bc5d",
   "metadata": {},
   "outputs": [
    {
     "data": {
      "text/plain": [
       "{'name': 'hammad', 'age': 22, 'city': 'Karachi'}"
      ]
     },
     "execution_count": 1,
     "metadata": {},
     "output_type": "execute_result"
    }
   ],
   "source": [
    "student_data = {}\n",
    "\n",
    "student_data['name']='hammad'\n",
    "student_data['age']=22\n",
    "student_data['city']='Karachi'\n",
    "\n",
    "student_data"
   ]
  },
  {
   "cell_type": "code",
   "execution_count": 2,
   "id": "929bcbed",
   "metadata": {},
   "outputs": [],
   "source": [
    "book = {\"title\": \"Python Basics\", \"author\": \"John Doe\", \"pages\": 300}\n",
    "# Change pages to 350\n",
    "# Add a new key \"price\" with value 29.99\n",
    "# Print all keys"
   ]
  },
  {
   "cell_type": "code",
   "execution_count": 4,
   "id": "9a34a2d2",
   "metadata": {},
   "outputs": [],
   "source": [
    "book['pages']  = 350"
   ]
  },
  {
   "cell_type": "code",
   "execution_count": 6,
   "id": "d86b864b",
   "metadata": {},
   "outputs": [
    {
     "data": {
      "text/plain": [
       "29.99"
      ]
     },
     "execution_count": 6,
     "metadata": {},
     "output_type": "execute_result"
    }
   ],
   "source": [
    "book\n",
    "book.setdefault('price',29.99)"
   ]
  },
  {
   "cell_type": "code",
   "execution_count": 7,
   "id": "b748d839",
   "metadata": {},
   "outputs": [
    {
     "data": {
      "text/plain": [
       "{'title': 'Python Basics', 'author': 'John Doe', 'pages': 350, 'price': 29.99}"
      ]
     },
     "execution_count": 7,
     "metadata": {},
     "output_type": "execute_result"
    }
   ],
   "source": [
    "book"
   ]
  },
  {
   "cell_type": "code",
   "execution_count": 10,
   "id": "453a018d",
   "metadata": {},
   "outputs": [],
   "source": [
    "numbers = [1, 2, 3, 4, 5]\n",
    "number_dict = {}"
   ]
  },
  {
   "cell_type": "code",
   "execution_count": 23,
   "id": "c4fe7f8a",
   "metadata": {},
   "outputs": [],
   "source": [
    "number_dict = {num:num**2 for num in numbers}"
   ]
  },
  {
   "cell_type": "code",
   "execution_count": 24,
   "id": "5013d48b",
   "metadata": {},
   "outputs": [
    {
     "data": {
      "text/plain": [
       "{1: 1, 2: 4, 3: 9, 4: 16, 5: 25}"
      ]
     },
     "execution_count": 24,
     "metadata": {},
     "output_type": "execute_result"
    }
   ],
   "source": [
    "number_dict"
   ]
  },
  {
   "cell_type": "code",
   "execution_count": 25,
   "id": "a540bec3",
   "metadata": {},
   "outputs": [],
   "source": [
    "dict1 = {\"a\": 1, \"b\": 2}\n",
    "dict2 = {\"c\": 3, \"d\": 4}\n",
    "# Merge them into a new dictionary\n",
    "new_dict = dict1 | dict2"
   ]
  },
  {
   "cell_type": "code",
   "execution_count": 26,
   "id": "bc164ddd",
   "metadata": {},
   "outputs": [
    {
     "data": {
      "text/plain": [
       "{'a': 1, 'b': 2, 'c': 3, 'd': 4}"
      ]
     },
     "execution_count": 26,
     "metadata": {},
     "output_type": "execute_result"
    }
   ],
   "source": [
    "new_dict"
   ]
  },
  {
   "cell_type": "code",
   "execution_count": 35,
   "id": "2b4e01f2",
   "metadata": {},
   "outputs": [],
   "source": [
    "sentence = \"the quick brown fox jumps over the lazy dog\"\n",
    "# Count frequency of each word\n",
    "# Output: {'the': 2, 'quick': 1, 'brown': 1, ...}\n",
    "dict_sentence = {sentence}\n",
    "\n",
    "word_counts = sentence.lower().split()\n",
    "\n",
    "word_dic = {}\n",
    "\n",
    "for word_count in word_counts:\n",
    "    if word_count in word_dic:\n",
    "        word_dic[word_count] += 1\n",
    "    else:\n",
    "        word_dic[word_count] = 1\n",
    "\n"
   ]
  },
  {
   "cell_type": "code",
   "execution_count": 43,
   "id": "96312e99",
   "metadata": {},
   "outputs": [
    {
     "name": "stdout",
     "output_type": "stream",
     "text": [
      "['kya', 'he', 'bat', 'hai', 'meri', 'hi', 'bat', 'hai']\n",
      "{'kya': 1, 'he': 1, 'bat': 2, 'hai': 2, 'meri': 1, 'hi': 1}\n"
     ]
    }
   ],
   "source": [
    "jumla = 'kya he bat hai meri hi bat hai'\n",
    "\n",
    "words = jumla.lower().split()\n",
    "#split ham use krty hain break krny k liye words ko \n",
    "print(words)\n",
    "\n",
    "alag_alag = {}\n",
    "\n",
    "for word in words:\n",
    "    if word in alag_alag:\n",
    "        alag_alag[word] += 1\n",
    "    else:\n",
    "        alag_alag[word] = 1\n",
    "\n",
    "print(alag_alag)\n"
   ]
  },
  {
   "cell_type": "code",
   "execution_count": null,
   "id": "dee4f34d",
   "metadata": {},
   "outputs": [
    {
     "name": "stdout",
     "output_type": "stream",
     "text": [
      "1\n",
      "2\n",
      "3\n"
     ]
    }
   ],
   "source": [
    "def gen():\n",
    "    yield 1\n",
    "    yield 2\n",
    "    yield 3\n",
    "\n",
    "g = gen()\n",
    "print(next(g))\n",
    "print(next(g))\n",
    "\n"
   ]
  },
  {
   "cell_type": "code",
   "execution_count": 33,
   "id": "2ca19198",
   "metadata": {},
   "outputs": [
    {
     "name": "stdout",
     "output_type": "stream",
     "text": [
      "1 2 3 1 2 "
     ]
    }
   ],
   "source": [
    "import itertools\n",
    "c = itertools.cycle([1,2,3])\n",
    "for i in range(5):\n",
    "    print(next(c), end=\" \")\n"
   ]
  },
  {
   "cell_type": "code",
   "execution_count": 64,
   "id": "3ef41dd2",
   "metadata": {},
   "outputs": [
    {
     "data": {
      "text/plain": [
       "[{'id': 1,\n",
       "  'name': 'Alice',\n",
       "  'grades': {'math': 85, 'science': 92},\n",
       "  'English': 90},\n",
       " {'id': 2,\n",
       "  'name': 'Bob',\n",
       "  'grades': {'math': 78, 'science': 88},\n",
       "  'English': 90}]"
      ]
     },
     "execution_count": 64,
     "metadata": {},
     "output_type": "execute_result"
    }
   ],
   "source": [
    "students = [\n",
    "    {\"id\": 1, \"name\": \"Alice\", \"grades\": {\"math\": 85, \"science\": 92}},\n",
    "    {\"id\": 2, \"name\": \"Bob\", \"grades\": {\"math\": 78, \"science\": 88}}\n",
    "]\n",
    "# Add English grade of 90 to all students\n",
    "# Calculate average grade for each student\n",
    "\n",
    "[{**student, \"English\": 90  } for student in students]"
   ]
  },
  {
   "cell_type": "code",
   "execution_count": 65,
   "id": "7a2141cf",
   "metadata": {},
   "outputs": [],
   "source": [
    "students[1]['grades']['English'] = 90 "
   ]
  },
  {
   "cell_type": "code",
   "execution_count": 51,
   "id": "a4d27920",
   "metadata": {},
   "outputs": [
    {
     "data": {
      "text/plain": [
       "[{'id': 1,\n",
       "  'name': 'Alice',\n",
       "  'grades': {'math': 85, 'science': 92, 'English': 90}},\n",
       " {'id': 2,\n",
       "  'name': 'Bob',\n",
       "  'grades': {'math': 78, 'science': 88, 'English': 90}}]"
      ]
     },
     "execution_count": 51,
     "metadata": {},
     "output_type": "execute_result"
    }
   ],
   "source": [
    "students"
   ]
  },
  {
   "cell_type": "code",
   "execution_count": 68,
   "id": "a8ee2e74",
   "metadata": {},
   "outputs": [],
   "source": [
    "students_dict = {student['id']:student for student in students}"
   ]
  },
  {
   "cell_type": "code",
   "execution_count": 88,
   "id": "6a667894",
   "metadata": {},
   "outputs": [
    {
     "data": {
      "text/plain": [
       "{'id': 1, 'name': 'Alice', 'grades': {'math': 85, 'science': 92}}"
      ]
     },
     "execution_count": 88,
     "metadata": {},
     "output_type": "execute_result"
    }
   ],
   "source": [
    "students_dict[1]"
   ]
  },
  {
   "cell_type": "code",
   "execution_count": null,
   "id": "4daac2ae",
   "metadata": {},
   "outputs": [],
   "source": [
    "products = {\n",
    "    \"laptop\": 1200,\n",
    "    \"mouse\": 25,\n",
    "    \"keyboard\": 80,\n",
    "    \"monitor\": 300,\n",
    "    \"headphones\": 150\n",
    "}\n",
    "# Create new dict with products costing more than $100\n",
    "new_product = {product['product_cost']: 100  for product in products}"
   ]
  },
  {
   "cell_type": "code",
   "execution_count": 73,
   "id": "81494147",
   "metadata": {},
   "outputs": [],
   "source": [
    "new_product = {product:price for product,price in products.items() if price >100}"
   ]
  },
  {
   "cell_type": "code",
   "execution_count": 74,
   "id": "33ef5ad4",
   "metadata": {},
   "outputs": [
    {
     "data": {
      "text/plain": [
       "{'laptop': 1200, 'monitor': 300, 'headphones': 150}"
      ]
     },
     "execution_count": 74,
     "metadata": {},
     "output_type": "execute_result"
    }
   ],
   "source": [
    "new_product"
   ]
  },
  {
   "cell_type": "code",
   "execution_count": 80,
   "id": "052ad0a4",
   "metadata": {},
   "outputs": [],
   "source": [
    "original = {\"a\": 1, \"b\": 2, \"c\": 1, \"d\": 3}\n",
    "# Invert to: {1: [\"a\", \"c\"], 2: [\"b\"], 3: [\"d\"]}\n"
   ]
  },
  {
   "cell_type": "code",
   "execution_count": 81,
   "id": "8d43c16c",
   "metadata": {},
   "outputs": [
    {
     "name": "stdout",
     "output_type": "stream",
     "text": [
      "{1: ['a', 'c'], 2: ['b'], 3: ['d']}\n"
     ]
    }
   ],
   "source": [
    "inverted = {}\n",
    "for key,values in original.items():\n",
    "    inverted.setdefault(values,[]).append(key)\n",
    "\n",
    "print(inverted)\n",
    "    "
   ]
  },
  {
   "cell_type": "code",
   "execution_count": 35,
   "id": "f5442413",
   "metadata": {},
   "outputs": [],
   "source": [
    "# Use this data for exercises:\n",
    "employees = [\n",
    "    {\"id\": 1, \"name\": \"John\", \"department\": \"IT\", \"salary\": 60000},\n",
    "    {\"id\": 2, \"name\": \"Sarah\", \"department\": \"HR\", \"salary\": 55000},\n",
    "    {\"id\": 3, \"name\": \"Mike\", \"department\": \"IT\", \"salary\": 65000},\n",
    "    {\"id\": 4, \"name\": \"Lisa\", \"department\": \"Finance\", \"salary\": 70000}\n",
    "]\n",
    "# Create shopping cart that can:\n",
    "# - Add items with price and quantity\n",
    "# - Remove items\n",
    "# - Calculate total cost\n",
    "# - Apply discount codes   "
   ]
  },
  {
   "cell_type": "code",
   "execution_count": null,
   "id": "e0c2ec58",
   "metadata": {},
   "outputs": [
    {
     "name": "stdout",
     "output_type": "stream",
     "text": [
      "Total salary of all employees: 808080\n"
     ]
    }
   ],
   "source": [
    "class AddItem:\n",
    "    def __init__(self, id, name, department, salary):\n",
    "        self.id = id\n",
    "        self.name = name\n",
    "        self.department = department\n",
    "        self.salary = salary\n",
    "\n",
    "# Initialize the employees list\n",
    "employees = []\n",
    "\n",
    "# Function to input employee details\n",
    "def employee_details():\n",
    "    id = int(input(\"Enter your id: \"))\n",
    "    name = input(\"Enter your name: \")\n",
    "    department = input(\"Enter your department: \")\n",
    "    salary = int(input(\"Enter your salary: \"))\n",
    "    return id, name, department, salary\n",
    "\n",
    "# Function to remove an employee from the list (popping the last item)\n",
    "def remove_item(employees):\n",
    "    if employees:  # Check if the list is not empty\n",
    "        employees.pop()\n",
    "    return employees\n",
    "\n",
    "# Function to calculate the total salary of all employees\n",
    "def total_salary(employees):\n",
    "    total_salary = sum(employee.salary for employee in employees)\n",
    "    return total_salary\n",
    "\n",
    "def dicount(employees):\n",
    "    if employees:\n",
    "        salary = [employee.salary * 0.2 for employee in employees]\n",
    "        return salary\n",
    "    else:\n",
    "        print(\"no discount\")\n",
    "    return []\n",
    "\n",
    "# Get employee details\n",
    "id, name, department, salary = employee_details()\n",
    "\n",
    "# Create AddItem object\n",
    "add_item = AddItem(id, name, department, salary)\n",
    "\n",
    "# Add the employee to the employees list\n",
    "employees.append(add_item)\n",
    "\n",
    "# Print the total salary\n",
    "print(f\"Total salary of all employees: {total_salary(employees)}\")\n"
   ]
  },
  {
   "cell_type": "code",
   "execution_count": 68,
   "id": "dfd9e17d",
   "metadata": {},
   "outputs": [
    {
     "data": {
      "text/plain": [
       "[]"
      ]
     },
     "execution_count": 68,
     "metadata": {},
     "output_type": "execute_result"
    }
   ],
   "source": [
    "remove_item(employees)"
   ]
  },
  {
   "cell_type": "code",
   "execution_count": 69,
   "id": "a93bb9ce",
   "metadata": {},
   "outputs": [
    {
     "data": {
      "text/plain": [
       "0"
      ]
     },
     "execution_count": 69,
     "metadata": {},
     "output_type": "execute_result"
    }
   ],
   "source": [
    "total_salary(employees)"
   ]
  },
  {
   "cell_type": "code",
   "execution_count": 70,
   "id": "ea252c43",
   "metadata": {},
   "outputs": [
    {
     "name": "stdout",
     "output_type": "stream",
     "text": [
      "no discount\n"
     ]
    },
    {
     "data": {
      "text/plain": [
       "[]"
      ]
     },
     "execution_count": 70,
     "metadata": {},
     "output_type": "execute_result"
    }
   ],
   "source": [
    "dicount(employees)"
   ]
  },
  {
   "cell_type": "code",
   "execution_count": 1,
   "id": "e5fc0031",
   "metadata": {},
   "outputs": [],
   "source": [
    "products = {\n",
    "    \"laptop\": 1200,\n",
    "    \"mouse\": 25,\n",
    "    \"keyboard\": 80,\n",
    "    \"monitor\": 300,\n",
    "    \"headphones\": 150\n",
    "}"
   ]
  },
  {
   "cell_type": "code",
   "execution_count": 2,
   "id": "b5b97d47",
   "metadata": {},
   "outputs": [],
   "source": [
    "products['mobile'] = 'samsung'"
   ]
  },
  {
   "cell_type": "code",
   "execution_count": 3,
   "id": "4de3dd7e",
   "metadata": {},
   "outputs": [
    {
     "data": {
      "text/plain": [
       "{'laptop': 1200,\n",
       " 'mouse': 25,\n",
       " 'keyboard': 80,\n",
       " 'monitor': 300,\n",
       " 'headphones': 150,\n",
       " 'mobile': 'samsung'}"
      ]
     },
     "execution_count": 3,
     "metadata": {},
     "output_type": "execute_result"
    }
   ],
   "source": [
    "products"
   ]
  },
  {
   "cell_type": "code",
   "execution_count": 5,
   "id": "4c34568b",
   "metadata": {},
   "outputs": [],
   "source": [
    "products1 = {\n",
    "    \"suolice\": 1200,\n",
    "    \"soni\": 25,\n",
    "    \"system\": 80,\n",
    "    \"iphone\": 300,\n",
    "    \"MAC\": 150\n",
    "}"
   ]
  },
  {
   "cell_type": "code",
   "execution_count": 6,
   "id": "e3761561",
   "metadata": {},
   "outputs": [],
   "source": [
    "new_pro = products | products1"
   ]
  },
  {
   "cell_type": "code",
   "execution_count": 7,
   "id": "887a1f0e",
   "metadata": {},
   "outputs": [
    {
     "data": {
      "text/plain": [
       "{'laptop': 1200,\n",
       " 'mouse': 25,\n",
       " 'keyboard': 80,\n",
       " 'monitor': 300,\n",
       " 'headphones': 150,\n",
       " 'mobile': 'samsung',\n",
       " 'suolice': 1200,\n",
       " 'soni': 25,\n",
       " 'system': 80,\n",
       " 'iphone': 300,\n",
       " 'MAC': 150}"
      ]
     },
     "execution_count": 7,
     "metadata": {},
     "output_type": "execute_result"
    }
   ],
   "source": [
    "new_pro"
   ]
  },
  {
   "cell_type": "code",
   "execution_count": 10,
   "id": "03e92bfb",
   "metadata": {},
   "outputs": [],
   "source": [
    "dict1 = {'fname','lname','occupation'}"
   ]
  },
  {
   "cell_type": "code",
   "execution_count": 11,
   "id": "90e95e9a",
   "metadata": {},
   "outputs": [],
   "source": [
    "dict2 = {'muhammad','salman','front-end dev'}"
   ]
  },
  {
   "cell_type": "code",
   "execution_count": 14,
   "id": "d7565046",
   "metadata": {},
   "outputs": [],
   "source": [
    "new_dict = {}"
   ]
  },
  {
   "cell_type": "code",
   "execution_count": null,
   "id": "90469a8a",
   "metadata": {},
   "outputs": [],
   "source": [
    "new_dict = new_dict.fromkeys(dict1,dict2)"
   ]
  },
  {
   "cell_type": "code",
   "execution_count": 16,
   "id": "08d6ac31",
   "metadata": {},
   "outputs": [
    {
     "data": {
      "text/plain": [
       "{'occupation': {'front-end dev', 'muhammad', 'salman'},\n",
       " 'lname': {'front-end dev', 'muhammad', 'salman'},\n",
       " 'fname': {'front-end dev', 'muhammad', 'salman'}}"
      ]
     },
     "execution_count": 16,
     "metadata": {},
     "output_type": "execute_result"
    }
   ],
   "source": [
    "new_dict"
   ]
  },
  {
   "cell_type": "code",
   "execution_count": 17,
   "id": "a3fb1ad6",
   "metadata": {},
   "outputs": [
    {
     "data": {
      "text/plain": [
       "dict"
      ]
     },
     "execution_count": 17,
     "metadata": {},
     "output_type": "execute_result"
    }
   ],
   "source": [
    "type(new_dict)"
   ]
  },
  {
   "cell_type": "code",
   "execution_count": 20,
   "id": "86433715",
   "metadata": {},
   "outputs": [],
   "source": [
    "\n",
    "def add_num(name,num1,num2=5):\n",
    "    sum = num1+num2\n",
    "    print(f'{name} total is {sum}')"
   ]
  },
  {
   "cell_type": "code",
   "execution_count": null,
   "id": "4ec09bbf",
   "metadata": {},
   "outputs": [
    {
     "name": "stdout",
     "output_type": "stream",
     "text": [
      "khan total is 7\n"
     ]
    }
   ],
   "source": [
    "num1 = int(input('ENter any number'))\n",
    "num2 = int(input('ENter any number'))\n",
    "name = input('ENter your name ')\n",
    "add_num(name=name,num1=num1,num2=num2) #function khud value pock kry ga agr argument kisi bhi squence mai bhejay jain"
   ]
  },
  {
   "cell_type": "code",
   "execution_count": 35,
   "id": "8d1e854a",
   "metadata": {},
   "outputs": [],
   "source": [
    "def add_num(name, *nums):\n",
    "    \n",
    "    print(f'{name}, the total is {sum(nums)}')\n",
    "    "
   ]
  },
  {
   "cell_type": "code",
   "execution_count": null,
   "id": "7ed93040",
   "metadata": {},
   "outputs": [],
   "source": [
    "def add_num(name, **nums):\n",
    "    \n",
    "    print(f'{name}, the total is {sum(nums)}')\n",
    "    "
   ]
  },
  {
   "cell_type": "code",
   "execution_count": 37,
   "id": "c6fb1444",
   "metadata": {},
   "outputs": [
    {
     "name": "stdout",
     "output_type": "stream",
     "text": [
      "khan, the total is 32\n"
     ]
    }
   ],
   "source": [
    "add_num('khan',1,2,3,4,4,5,6,7)"
   ]
  },
  {
   "cell_type": "code",
   "execution_count": 55,
   "id": "d883dae4",
   "metadata": {},
   "outputs": [],
   "source": [
    "#task: give me the sum of the values passesd as unknowns args to function args\n",
    "#task: give me the sum of the values passesd as unknowns args to function as kwargs\n",
    "def add_dict(name, **nums):\n",
    "    print(f'{name} sum of number is {sum(nums.values())}')"
   ]
  },
  {
   "cell_type": "code",
   "execution_count": 56,
   "id": "3cd1a882",
   "metadata": {},
   "outputs": [
    {
     "name": "stdout",
     "output_type": "stream",
     "text": [
      "khan sum of number is 4\n"
     ]
    }
   ],
   "source": [
    "add_dict('khan',num1=1,num2=3)"
   ]
  },
  {
   "cell_type": "code",
   "execution_count": 59,
   "id": "1c5b8b0a",
   "metadata": {},
   "outputs": [
    {
     "name": "stdout",
     "output_type": "stream",
     "text": [
      "11\n"
     ]
    }
   ],
   "source": [
    "def func(a,b):\n",
    "    def funcInfunc():\n",
    "        sum = a + b \n",
    "        return sum\n",
    "    return funcInfunc()\n",
    "\n",
    "print(func(5,6))"
   ]
  },
  {
   "cell_type": "code",
   "execution_count": null,
   "id": "503e2b90",
   "metadata": {},
   "outputs": [
    {
     "name": "stdout",
     "output_type": "stream",
     "text": [
      "24\n"
     ]
    }
   ],
   "source": [
    "def fectorial(n):\n",
    "    if (n==0 or n==1):\n",
    "        return 1\n",
    "    else:\n",
    "        return n*fectorial(n-1)\n",
    "    \n",
    "print(fectorial(4))\n",
    "#while loop on page 151"
   ]
  },
  {
   "cell_type": "code",
   "execution_count": 69,
   "id": "e118054f",
   "metadata": {},
   "outputs": [
    {
     "name": "stdout",
     "output_type": "stream",
     "text": [
      "6\n"
     ]
    }
   ],
   "source": [
    "num = int(input('enter any number '))\n",
    "fectorial = 1\n",
    "while (num > 0):\n",
    "    fectorial*=num\n",
    "    num-=1\n",
    "\n",
    "\n",
    "print(fectorial)"
   ]
  },
  {
   "cell_type": "code",
   "execution_count": 73,
   "id": "6f1e9f5d",
   "metadata": {},
   "outputs": [
    {
     "name": "stdout",
     "output_type": "stream",
     "text": [
      "khan\n",
      "new\n",
      "old\n",
      "fulan\n"
     ]
    }
   ],
   "source": [
    "while True:\n",
    "    user_name = input('Enter your name')\n",
    "    if (user_name == 'quit'):\n",
    "        break\n",
    "    else:\n",
    "        print(user_name)\n",
    "    "
   ]
  },
  {
   "cell_type": "markdown",
   "id": "9fff0158",
   "metadata": {},
   "source": [
    "## class\n",
    "- every thing belong to some specific **class**\n",
    "- every class can have its **object**\n",
    "- every class have it own **methods** "
   ]
  },
  {
   "cell_type": "markdown",
   "id": "0f3f4a44",
   "metadata": {},
   "source": [
    "- every class have two things\n",
    "   - 1- characteristics --> attribute or properties\n",
    "   - 2- Behaviour/Action --> methods\n",
    "    \n",
    "    "
   ]
  },
  {
   "cell_type": "code",
   "execution_count": null,
   "id": "bc2f27f0",
   "metadata": {},
   "outputs": [],
   "source": [
    "class Human:\n",
    "    def __init__(self,hand,eye,name):\n",
    "        self.hand = hand\n",
    "        self.eye = eye\n",
    "        self.name = name\n",
    "\n",
    "\n",
    "    def human_eye(self):\n",
    "        print(f'{self.name} is seeing with  {self.eye} eye')\n",
    "\n",
    "    def human_hand(self):\n",
    "        print(f'{self.name} is veiwing {self.hand}')\n",
    "\n",
    "\n",
    "human_object = Human('hi','brown','khan') #Object of Human class\n",
    "\n"
   ]
  },
  {
   "cell_type": "code",
   "execution_count": 86,
   "id": "9ceb55f2",
   "metadata": {},
   "outputs": [
    {
     "name": "stdout",
     "output_type": "stream",
     "text": [
      "khan is veiwing hi\n",
      "khan is seeing with  brown eye\n"
     ]
    }
   ],
   "source": [
    "human_object.human_hand()\n",
    "human_object.human_eye()"
   ]
  },
  {
   "cell_type": "code",
   "execution_count": null,
   "id": "b1056d79",
   "metadata": {},
   "outputs": [],
   "source": [
    "class Bank:\n",
    "    def __init__(self,balance,deposite,name):\n",
    "        self.balance = balance\n",
    "        self.deposite = deposite\n",
    "        self.name = name\n",
    "\n",
    "    def bank_balance(self):\n",
    "        \n",
    "        print(f'{self.balance}')"
   ]
  },
  {
   "cell_type": "markdown",
   "id": "f82749eb",
   "metadata": {},
   "source": [
    "###Scenario 1: Grocery Shopping List\n",
    "- You are creating a program to manage a grocery shopping list. Users should be able to add items,  - remove items, and display the current list.\n"
   ]
  },
  {
   "cell_type": "code",
   "execution_count": 5,
   "id": "0e8c201b",
   "metadata": {},
   "outputs": [
    {
     "name": "stdout",
     "output_type": "stream",
     "text": [
      "Current grocery list: ['piyaz', 'tmator', 'alu']\n",
      "Current grocery list: ['piyaz', 'tmator', 'alu', 'tomato']\n",
      "\n",
      "Final grocery list: ['piyaz', 'tmator', 'alu', 'tomato']\n"
     ]
    }
   ],
   "source": [
    "grocery_list = ['piyaz', 'tmator']\n",
    "\n",
    "while True:\n",
    "    user_input = input('Enter your grocery (or \"quit\" to finish): ')\n",
    "    \n",
    "    if user_input.lower() == 'quit':\n",
    "        break\n",
    "    else:\n",
    "        grocery_list.append(user_input)\n",
    "        print(f\"Current grocery list: {grocery_list}\")\n",
    "\n",
    "print(f\"\\nFinal grocery list: {grocery_list}\")"
   ]
  },
  {
   "cell_type": "code",
   "execution_count": 12,
   "id": "e2f472f6",
   "metadata": {},
   "outputs": [
    {
     "data": {
      "text/plain": [
       "['tendy']"
      ]
     },
     "execution_count": 12,
     "metadata": {},
     "output_type": "execute_result"
    }
   ],
   "source": [
    "new_grocery_shopping_list"
   ]
  },
  {
   "cell_type": "code",
   "execution_count": 17,
   "id": "ab6aae66",
   "metadata": {},
   "outputs": [],
   "source": [
    "class AnyThing:\n",
    "    def __init__(self,count,courses,name):\n",
    "        self.count = count\n",
    "        self.courses = courses\n",
    "        self.name = name\n",
    "\n",
    "\n",
    "    def detail(self,courses):\n",
    "        print(f'{self.name} have {self.count} courses...!')\n",
    "        course =map( lambda x : x , courses)\n",
    "        print(*course)\n",
    "        # print(f'cources are: {*course}')"
   ]
  },
  {
   "cell_type": "code",
   "execution_count": 18,
   "id": "1fad680b",
   "metadata": {},
   "outputs": [],
   "source": [
    "za = AnyThing(3,'AI','Zaitoon Ashraf')"
   ]
  },
  {
   "cell_type": "code",
   "execution_count": 19,
   "id": "63b99b09",
   "metadata": {},
   "outputs": [
    {
     "name": "stdout",
     "output_type": "stream",
     "text": [
      "Zaitoon Ashraf have 3 courses...!\n",
      "AI DE WEB\n"
     ]
    }
   ],
   "source": [
    "za.detail(['AI','DE','WEB'])"
   ]
  },
  {
   "cell_type": "markdown",
   "id": "337a2f51",
   "metadata": {},
   "source": [
    "# class initilaization with program name\n",
    "- Constructors\n",
    "    - attributes\n",
    "- method\n",
    "\n",
    "## OOP(object orianted programing)\n",
    "- Inheritence -> (functionality form ancestor's) => Multiple Enharitence\n",
    "- Abstraction ->(raw data)\n",
    "- Polymorphism-> (single class can be used for multiple things)\n",
    "- Encaptulation-> (data privacy)"
   ]
  },
  {
   "cell_type": "code",
   "execution_count": 1,
   "id": "6ad4f07e",
   "metadata": {},
   "outputs": [],
   "source": [
    "class Parent:\n",
    "    def __init__(self,eye_color,hair_color):\n",
    "        self.eye_color = eye_color\n",
    "        self.hair_color = hair_color\n",
    "\n",
    "    def can_print(self):\n",
    "        print(f'abilty to have things form parents')\n"
   ]
  },
  {
   "cell_type": "code",
   "execution_count": null,
   "id": "0a61a624",
   "metadata": {},
   "outputs": [],
   "source": [
    "# ancestor = Parent('brown','blond')"
   ]
  },
  {
   "cell_type": "code",
   "execution_count": 8,
   "id": "965877b0",
   "metadata": {},
   "outputs": [
    {
     "name": "stdout",
     "output_type": "stream",
     "text": [
      "abilty to have things form parents\n"
     ]
    }
   ],
   "source": [
    "ancestor.can_print()"
   ]
  },
  {
   "cell_type": "code",
   "execution_count": null,
   "id": "ed97509c",
   "metadata": {},
   "outputs": [],
   "source": [
    "class Child(Parent):\n",
    "    pass\n",
    "\n",
    "    "
   ]
  },
  {
   "cell_type": "code",
   "execution_count": 11,
   "id": "ed88701f",
   "metadata": {},
   "outputs": [],
   "source": [
    "chlid_object = Child('green','black')"
   ]
  },
  {
   "cell_type": "code",
   "execution_count": 12,
   "id": "731f0a77",
   "metadata": {},
   "outputs": [
    {
     "name": "stdout",
     "output_type": "stream",
     "text": [
      "abilty to have things form parents\n"
     ]
    }
   ],
   "source": [
    "chlid_object.can_print()"
   ]
  },
  {
   "cell_type": "code",
   "execution_count": 19,
   "id": "a0e18b7c",
   "metadata": {},
   "outputs": [],
   "source": [
    "class Child(Parent):\n",
    "    def __init__(self,eye_color,hair_color, skin_color):\n",
    "        super().__init__(eye_color,hair_color)\n",
    "        self.skin_color = skin_color\n",
    "\n",
    "    def can_be(self):\n",
    "        print(f'Nigga Please...! {self.eye_color} and {self.skin_color}')\n",
    "\n",
    "    "
   ]
  },
  {
   "cell_type": "code",
   "execution_count": 20,
   "id": "61ec0fe7",
   "metadata": {},
   "outputs": [],
   "source": [
    "obj = Child('green','Yesllow','pintch black')"
   ]
  },
  {
   "cell_type": "code",
   "execution_count": 21,
   "id": "5a0d4439",
   "metadata": {},
   "outputs": [
    {
     "name": "stdout",
     "output_type": "stream",
     "text": [
      "Nigga Please...! green and pintch black\n"
     ]
    }
   ],
   "source": [
    "obj.can_be()"
   ]
  },
  {
   "cell_type": "markdown",
   "id": "88b7708b",
   "metadata": {},
   "source": [
    "## create a class with name 'Father' which have two attributes and one method \n",
    "- create a class with name child that inherit charachtatrictics of father should have atleast one more attriutee and method other then father class"
   ]
  },
  {
   "cell_type": "code",
   "execution_count": 22,
   "id": "e643232c",
   "metadata": {},
   "outputs": [],
   "source": [
    "class Father:\n",
    "    def __init__(self,height,voice):\n",
    "        self.height = height\n",
    "        self.voice = voice\n",
    "\n",
    "    def can_print(self):\n",
    "        print(f'What i have got from my father is a {self.voice} voice and {self.height} height')\n"
   ]
  },
  {
   "cell_type": "code",
   "execution_count": 31,
   "id": "ed4e5a1d",
   "metadata": {},
   "outputs": [],
   "source": [
    "class Child(Father):\n",
    "    def __init__(self,height,voice,hair,vision):\n",
    "        super().__init__(height,voice)\n",
    "        self.hair = hair\n",
    "        self.vision = vision\n",
    "\n",
    "    def new_one(self):\n",
    "        print(f'What i have got from my father is a {self.voice} voice and {self.height} height')\n",
    "        print(f'hairs {self.hair} and {self.vision} vision')"
   ]
  },
  {
   "cell_type": "code",
   "execution_count": 32,
   "id": "fd08849c",
   "metadata": {},
   "outputs": [],
   "source": [
    "obj_inh = Child('18 ft','deep','black','low')"
   ]
  },
  {
   "cell_type": "code",
   "execution_count": 33,
   "id": "203db682",
   "metadata": {},
   "outputs": [
    {
     "name": "stdout",
     "output_type": "stream",
     "text": [
      "What i have got from my father is a deep voice and 18 ft height\n",
      "hairs black and low vision\n"
     ]
    }
   ],
   "source": [
    "obj_inh.new_one()"
   ]
  },
  {
   "cell_type": "markdown",
   "id": "727195e8",
   "metadata": {},
   "source": [
    "# method Overriding && OverLoading\n",
    "- OverRiding work if we set a parent class and in parent class we define method and for the same funtionality with more attributes we set method in child class then the paresnt method will be overRide by the chile class\n",
    "- OverLoading we use multiple type "
   ]
  },
  {
   "cell_type": "code",
   "execution_count": null,
   "id": "db1eeb8c",
   "metadata": {},
   "outputs": [],
   "source": []
  },
  {
   "cell_type": "code",
   "execution_count": 48,
   "id": "8521fe07",
   "metadata": {},
   "outputs": [
    {
     "name": "stdout",
     "output_type": "stream",
     "text": [
      "9\n",
      "4.6\n",
      "helloworld\n"
     ]
    }
   ],
   "source": [
    "from typing import overload\n",
    "class Add:\n",
    "\n",
    "\n",
    "    @overload\n",
    "    def add(self,a:int,b:int) -> int:\n",
    "        ...\n",
    "    @overload\n",
    "    def add(self,a:str,b:str) -> str:\n",
    "        ...\n",
    "\n",
    "    @overload\n",
    "    def add(self,a:float,b:float) -> float:\n",
    "        ...\n",
    "\n",
    "    def add(self,a,b):\n",
    "        if isinstance(a,int) and isinstance(b,int):\n",
    "            return a + b\n",
    "        elif isinstance(a,str) and isinstance(b,str):\n",
    "            return a + b\n",
    "        elif isinstance(a,float) and isinstance(b,float):\n",
    "            return a + b\n",
    "        else:\n",
    "            print('you fucked UP!!!')\n",
    "\n",
    "\n",
    "add_obj = Add()\n",
    "print(add_obj.add(2,7))\n",
    "print(add_obj.add(2.3,2.3))\n",
    "print(add_obj.add('hello','world'))\n"
   ]
  },
  {
   "cell_type": "code",
   "execution_count": 7,
   "id": "d726df5b",
   "metadata": {},
   "outputs": [
    {
     "name": "stdout",
     "output_type": "stream",
     "text": [
      "\n",
      "Final grocery list: ['piyaz', 'tmator', 'chikken']\n"
     ]
    }
   ],
   "source": [
    "grocery_list = ['piyaz', 'tmator']\n",
    "\n",
    "while True:\n",
    "    user_input = input('Enter your grocery (or \"quit\" to finish): ')\n",
    "    \n",
    "    if user_input.lower() == 'quit':\n",
    "        break\n",
    "    elif user_input.lower() == 'delete':\n",
    "        grocery_list.pop()\n",
    "    else:\n",
    "        grocery_list.append(user_input)\n",
    "        # print(f\"Current grocery list: {grocery_list}\")\n",
    "\n",
    "print(f\"\\nFinal grocery list: {grocery_list}\")"
   ]
  },
  {
   "cell_type": "markdown",
   "id": "e92b9307",
   "metadata": {},
   "source": [
    "Scenario 2: Student Grades  \n",
    "You are managing student grades using a dictionary. You need to calculate the average grade.take \n",
    "atleast 5 Students grades & then calculate the average. \n"
   ]
  },
  {
   "cell_type": "code",
   "execution_count": null,
   "id": "664ebf8e",
   "metadata": {},
   "outputs": [
    {
     "name": "stdout",
     "output_type": "stream",
     "text": [
      "Average Grade: 73.33/100\n",
      "name\n",
      "Average Grade: 73.33/100\n",
      "subject\n",
      "english: 70\n",
      "maths: 90\n",
      "programing fundamental: 60\n"
     ]
    }
   ],
   "source": [
    "student_grade = {\n",
    "    'name':'john doe',\n",
    "    'subject':{\n",
    "        'english': 70,\n",
    "        'maths': 90,\n",
    "        'programing fundamental': 60\n",
    "    }\n",
    "}\n",
    "for key,student in student_grade.items():\n",
    "    grades = student_grade['subject'].values()\n",
    "    average = sum(grades) / len(grades)\n",
    "\n",
    "    print(f\"Student: {student_grade['name']}\")\n",
    "    print(f\"Average Grade: {average:.2f}/100\")\n",
    "    print(key)\n",
    "    if isinstance(student, dict):\n",
    "        for sub_key, sub_value in student.items():\n",
    "            # print('Number of subject')\n",
    "            print(f\"{sub_key}: {sub_value}\")\n",
    "            # print(f\"Avrage Grade: {result}\")"
   ]
  },
  {
   "cell_type": "code",
   "execution_count": null,
   "id": "d561509d",
   "metadata": {},
   "outputs": [],
   "source": []
  },
  {
   "cell_type": "code",
   "execution_count": null,
   "id": "0f79948a",
   "metadata": {},
   "outputs": [],
   "source": []
  },
  {
   "cell_type": "markdown",
   "id": "200702cc",
   "metadata": {},
   "source": [
    "Scenario 3: Word Frequency Counter \n",
    "You are given a list of words, and you need to count the frequency of each word. \n",
    "word_list = [\"apple\", \"banana\", \"apple\", \"orange\", \"banana\", \"grape\", \"apple\"] "
   ]
  },
  {
   "cell_type": "code",
   "execution_count": null,
   "id": "f0daf6a9",
   "metadata": {},
   "outputs": [],
   "source": [
    "word_list = [\"apple\", \"banana\", \"apple\", \"orange\", \"banana\", \"grape\", \"apple\"]\n",
    "\n",
    "word_counts = Counter(word_list)\n",
    "\n",
    "print(word_counts)"
   ]
  },
  {
   "cell_type": "code",
   "execution_count": 13,
   "id": "72c5c19c",
   "metadata": {},
   "outputs": [
    {
     "name": "stdout",
     "output_type": "stream",
     "text": [
      "{'apple': 3, 'banana': 2, 'grape': 1, 'orange': 1}\n"
     ]
    }
   ],
   "source": [
    "word_list = [\"apple\", \"banana\", \"apple\", \"orange\", \"banana\", \"grape\", \"apple\"]\n",
    "word_counts = {word: word_list.count(word) for word in set(word_list)}\n",
    "\n",
    "print(word_counts)\n",
    "# Output: {'orange': 1, 'banana': 2, 'grape': 1, 'apple': 3}"
   ]
  },
  {
   "cell_type": "markdown",
   "id": "a0cd080a",
   "metadata": {},
   "source": [
    "Scenario 3: Password Strength Checker \n",
    "You are creating a program to check the strength of passwords based on certain criteria. \n",
    "• Password should be at least 8 characters long. \n",
    "• Password should contain at least one digit. \n",
    "• Password should contain at least one letter. "
   ]
  },
  {
   "cell_type": "markdown",
   "id": "9c582d7b",
   "metadata": {},
   "source": [
    "# OOP(concept)"
   ]
  },
  {
   "cell_type": "markdown",
   "id": "2caf866d",
   "metadata": {},
   "source": [
    "- Astraction\n",
    "       - the concept of hiding complexity while exposing neccesory parts. it hepls to reduce programming complexity and effort \n",
    "- Polimorphism"
   ]
  },
  {
   "cell_type": "code",
   "execution_count": 1,
   "id": "2f2205cb",
   "metadata": {},
   "outputs": [],
   "source": [
    "class Shapes:\n",
    "    \n",
    "\n",
    "    def sides(self):\n",
    "        pass"
   ]
  },
  {
   "cell_type": "code",
   "execution_count": 3,
   "id": "390ba587",
   "metadata": {},
   "outputs": [],
   "source": [
    "class Square(Shapes):\n",
    "\n",
    "    def sides(self):\n",
    "        print('square has 4 sides: ')"
   ]
  },
  {
   "cell_type": "code",
   "execution_count": 4,
   "id": "f437151c",
   "metadata": {},
   "outputs": [
    {
     "name": "stdout",
     "output_type": "stream",
     "text": [
      "square has 4 sides: \n"
     ]
    }
   ],
   "source": [
    "sqr_obj = Square()\n",
    "sqr_obj.sides()"
   ]
  },
  {
   "cell_type": "code",
   "execution_count": 5,
   "id": "a556e99c",
   "metadata": {},
   "outputs": [],
   "source": [
    "class Curcle(Shapes):\n",
    "\n",
    "    def sides(self):\n",
    "        print('circle has no sides')"
   ]
  },
  {
   "cell_type": "code",
   "execution_count": 6,
   "id": "e454e140",
   "metadata": {},
   "outputs": [
    {
     "name": "stdout",
     "output_type": "stream",
     "text": [
      "circle has no sides\n"
     ]
    }
   ],
   "source": [
    "sqr_obj = Curcle()\n",
    "sqr_obj.sides()"
   ]
  },
  {
   "cell_type": "markdown",
   "id": "f2050f76",
   "metadata": {},
   "source": [
    "# Encapsulation"
   ]
  },
  {
   "cell_type": "code",
   "execution_count": null,
   "id": "b493313e",
   "metadata": {},
   "outputs": [],
   "source": [
    "class Saylani():\n",
    "    def __init__(self):\n",
    "        self.helpline = '777'\n",
    "        self._batch = 'payment' #protected\n",
    "        self.__result = '70%' #private\n",
    "        "
   ]
  },
  {
   "cell_type": "code",
   "execution_count": 8,
   "id": "3de4c93a",
   "metadata": {},
   "outputs": [],
   "source": [
    "sa_obj = Saylani()"
   ]
  },
  {
   "cell_type": "code",
   "execution_count": 9,
   "id": "47b5eb7c",
   "metadata": {},
   "outputs": [
    {
     "data": {
      "text/plain": [
       "'777'"
      ]
     },
     "execution_count": 9,
     "metadata": {},
     "output_type": "execute_result"
    }
   ],
   "source": [
    "sa_obj.helpline"
   ]
  },
  {
   "cell_type": "code",
   "execution_count": 14,
   "id": "e0cb9727",
   "metadata": {},
   "outputs": [
    {
     "data": {
      "text/plain": [
       "'payment'"
      ]
     },
     "execution_count": 14,
     "metadata": {},
     "output_type": "execute_result"
    }
   ],
   "source": [
    "sa_obj._batch"
   ]
  },
  {
   "cell_type": "code",
   "execution_count": 15,
   "id": "e6828fd3",
   "metadata": {},
   "outputs": [
    {
     "data": {
      "text/plain": [
       "'70%'"
      ]
     },
     "execution_count": 15,
     "metadata": {},
     "output_type": "execute_result"
    }
   ],
   "source": [
    "sa_obj._Saylani__result"
   ]
  },
  {
   "cell_type": "code",
   "execution_count": 16,
   "id": "007065c9",
   "metadata": {},
   "outputs": [],
   "source": [
    "class Cricket:\n",
    "    def __init__(self):\n",
    "        self.userName = 'userName'\n",
    "        self._does = \"does\"\n",
    "        self.__fielder = 'fielder'\n",
    "\n",
    "    "
   ]
  },
  {
   "cell_type": "code",
   "execution_count": 17,
   "id": "00b49cbd",
   "metadata": {},
   "outputs": [],
   "source": [
    "cri_obj = Cricket()"
   ]
  },
  {
   "cell_type": "code",
   "execution_count": 18,
   "id": "e52e8917",
   "metadata": {},
   "outputs": [
    {
     "data": {
      "text/plain": [
       "'userName'"
      ]
     },
     "execution_count": 18,
     "metadata": {},
     "output_type": "execute_result"
    }
   ],
   "source": [
    "cri_obj.userName"
   ]
  },
  {
   "cell_type": "code",
   "execution_count": null,
   "id": "67934e84",
   "metadata": {},
   "outputs": [
    {
     "data": {
      "text/plain": [
       "'does'"
      ]
     },
     "execution_count": 19,
     "metadata": {},
     "output_type": "execute_result"
    }
   ],
   "source": [
    "cri_obj._does"
   ]
  },
  {
   "cell_type": "code",
   "execution_count": 20,
   "id": "f9613f10",
   "metadata": {},
   "outputs": [
    {
     "data": {
      "text/plain": [
       "'fielder'"
      ]
     },
     "execution_count": 20,
     "metadata": {},
     "output_type": "execute_result"
    }
   ],
   "source": [
    "cri_obj._Cricket__fielder"
   ]
  },
  {
   "cell_type": "code",
   "execution_count": null,
   "id": "da8ff4d2",
   "metadata": {},
   "outputs": [
    {
     "name": "stdout",
     "output_type": "stream",
     "text": [
      "Welcome! Login successful.\n",
      "Login failed. Please check your credentials.\n"
     ]
    }
   ],
   "source": [
    "class StudentLogin:\n",
    "\n",
    "    def __init__(self):\n",
    "        self.__username = 'hello world'\n",
    "        self.__password = '4433322333'\n",
    "\n",
    "    def get_username(self):\n",
    "        return self.__username\n",
    "\n",
    "    def get_password(self):\n",
    "        return self.__password\n",
    "\n",
    "    def db_connectivity(self, input_username, input_password):\n",
    "        if input_username == self.__username and input_password == self.__password:\n",
    "            print('Welcome! Login successful.')\n",
    "            return True\n",
    "        else:\n",
    "            print('Login failed. Please check your credentials.')\n",
    "            return False\n",
    "\n"
   ]
  },
  {
   "cell_type": "code",
   "execution_count": 45,
   "id": "f9b9bb2e",
   "metadata": {},
   "outputs": [],
   "source": [
    " login_system = StudentLogin()"
   ]
  },
  {
   "cell_type": "code",
   "execution_count": 46,
   "id": "40db94af",
   "metadata": {},
   "outputs": [
    {
     "name": "stdout",
     "output_type": "stream",
     "text": [
      "Welcome! Login successful.\n"
     ]
    }
   ],
   "source": [
    "result1 = login_system.db_connectivity('hello world', '4433322333')"
   ]
  },
  {
   "cell_type": "code",
   "execution_count": 47,
   "id": "4d696055",
   "metadata": {},
   "outputs": [
    {
     "name": "stdout",
     "output_type": "stream",
     "text": [
      "Login failed. Please check your credentials.\n"
     ]
    }
   ],
   "source": [
    "result2 = login_system.db_connectivity('wrong_user', 'wrong_pass')"
   ]
  },
  {
   "cell_type": "markdown",
   "id": "4a30ded8",
   "metadata": {},
   "source": [
    "TASK1:\n",
    "create three public, protected and private methods like we did for attributes\n",
    "TASK2:\n",
    "use encapsulation for class i:e., StudentLogin():\n",
    "initialize two static but private attributes i:e., __user_name, __password\n",
    "create one private methods i:e., name __dbconectivity() that will validate you username & password. if both are valid then should print \"valid user\" otherwise \"not valid\"\n",
    "create one public methods i:e., update password & it should update your private password"
   ]
  },
  {
   "cell_type": "code",
   "execution_count": null,
   "id": "3ddc4eab",
   "metadata": {},
   "outputs": [],
   "source": []
  },
  {
   "cell_type": "markdown",
   "id": "125a59ba",
   "metadata": {},
   "source": [
    "- read --> r\n",
    "- write --> w\n",
    "- append --> a\n",
    "- read_write --> w+"
   ]
  },
  {
   "cell_type": "code",
   "execution_count": null,
   "id": "e52c5067",
   "metadata": {},
   "outputs": [],
   "source": [
    "#closing file in lazmi recommended not to use\n",
    "f = open('file.txt' , 'w')\n",
    "f.write(\"what's cooking good looking\")\n",
    "f.close()"
   ]
  },
  {
   "cell_type": "code",
   "execution_count": 60,
   "id": "8cbb362a",
   "metadata": {},
   "outputs": [],
   "source": [
    "#file will close automatically\n",
    "with open('file.txt','w') as f:\n",
    "    f.write('something new is going \\n on nigga!!') #override the previous content"
   ]
  },
  {
   "cell_type": "code",
   "execution_count": 61,
   "id": "6d86999b",
   "metadata": {},
   "outputs": [
    {
     "name": "stdout",
     "output_type": "stream",
     "text": [
      "something new is going \n",
      " on nigga!!\n"
     ]
    }
   ],
   "source": [
    "with open('file.txt','r') as f:\n",
    "    file_content = f.read()\n",
    "    print(file_content)"
   ]
  },
  {
   "cell_type": "code",
   "execution_count": null,
   "id": "b0a69adc",
   "metadata": {},
   "outputs": [],
   "source": [
    "#file will close automatically\n",
    "with open('file.txt','r+') as f:\n",
    "    f.write('something new is cooking \\n on nigga!! why') #override the previous content\n",
    "    f.seek()\n",
    "    print(f.seek())"
   ]
  },
  {
   "cell_type": "code",
   "execution_count": null,
   "id": "039be06d",
   "metadata": {},
   "outputs": [],
   "source": [
    "with open('./echangeRate.csv','r') as f:\n",
    "    csv_content = f.readlines()\n",
    "    "
   ]
  },
  {
   "cell_type": "markdown",
   "id": "fe45aaf6",
   "metadata": {},
   "source": [
    "# CSV  file handling"
   ]
  },
  {
   "cell_type": "code",
   "execution_count": null,
   "id": "1aaecbce",
   "metadata": {},
   "outputs": [],
   "source": [
    "# Year,Event,Winner\n",
    "# 1995,Best-Kept Lawn,None\n",
    "# 1999,Gobstones,Welch National\n",
    "# 2006,World Cup,Burkina Faso\n",
    "import csv"
   ]
  },
  {
   "cell_type": "code",
   "execution_count": 9,
   "id": "97e7ee28",
   "metadata": {},
   "outputs": [
    {
     "name": "stdout",
     "output_type": "stream",
     "text": [
      "<_csv.reader object at 0x000001F3C973F940>\n",
      "['Year,Event,Winner', '', '', '']\n",
      "['1995,Best-Kept Lawn,None', '', '', '']\n",
      "['1999,Gobstones,Welch National', '', '', '']\n",
      "['2006,World Cup,Burkina Faso', '', '', '']\n"
     ]
    }
   ],
   "source": [
    "with open('./competetion.csv', 'r') as f:\n",
    "    content = csv.reader(f)\n",
    "    print(content)\n",
    "    for line in content:\n",
    "        print(line)"
   ]
  },
  {
   "cell_type": "code",
   "execution_count": 23,
   "id": "0bc4c785",
   "metadata": {},
   "outputs": [
    {
     "name": "stdout",
     "output_type": "stream",
     "text": [
      "<_csv.reader object at 0x000001F3CA76AAA0>\n",
      "['Year,Event,Winner', '', '', '']\n",
      "['1995,Best-Kept Lawn,None', '', '', '']\n",
      "['1999,Gobstones,Welch National', '', '', '']\n",
      "['2006,World Cup,Burkina Faso', '', '', '']\n",
      "['2012', 'Asia Cup', 'Pakistan']\n",
      "['2012', 'Asia Cup', 'Pakistan']\n",
      "['2012', 'Asia Cup', 'Pakistan']\n"
     ]
    }
   ],
   "source": [
    "with open('./competetion.csv', 'r') as f:\n",
    "    content = csv.reader(f)\n",
    "    print(content)\n",
    "    for line in content:\n",
    "        print(line)"
   ]
  },
  {
   "cell_type": "code",
   "execution_count": null,
   "id": "d85e824a",
   "metadata": {},
   "outputs": [],
   "source": [
    "with open('./competetion.csv', mode='a', newline='') as f:\n",
    "    file_handle = csv.writer(f,delimiter = ',')\n",
    "    file_handle.writerow(['2012','Asia Cup', 'Pakistan'])"
   ]
  },
  {
   "cell_type": "code",
   "execution_count": 24,
   "id": "22757dab",
   "metadata": {},
   "outputs": [],
   "source": [
    "import json"
   ]
  },
  {
   "cell_type": "code",
   "execution_count": 25,
   "id": "6e185267",
   "metadata": {},
   "outputs": [],
   "source": [
    "with open('./json_file.json','w') as f:\n",
    "    json.dump(['a', 'b', 'c'], f)"
   ]
  },
  {
   "cell_type": "code",
   "execution_count": null,
   "id": "85803235",
   "metadata": {},
   "outputs": [],
   "source": [
    "with open('./json_file.json','r') as f:\n",
    "    content = json.load(f)\n",
    "    content['what'] = 50"
   ]
  },
  {
   "cell_type": "code",
   "execution_count": null,
   "id": "92f2cd8f",
   "metadata": {},
   "outputs": [],
   "source": [
    "import json\n",
    "\n",
    "new_data = ['c', 'd', 'e']\n",
    "\n",
    "# First read the file\n",
    "with open('./json_file.json', 'r') as f:\n",
    "    content = json.load(f)\n",
    "\n",
    "# Then append the data\n",
    "content.append(new_data)\n",
    "\n",
    "# Finally write back to file\n",
    "with open('./json_file.json', 'w') as f:\n",
    "    json.dump(content, f, indent=2)  # Fixed: 'file' to 'f'"
   ]
  },
  {
   "cell_type": "code",
   "execution_count": 48,
   "id": "5aab5ca0",
   "metadata": {},
   "outputs": [
    {
     "name": "stdout",
     "output_type": "stream",
     "text": [
      "befor\n",
      "1.0\n",
      "1.0\n",
      "after\n"
     ]
    }
   ],
   "source": [
    "print('befor')\n",
    "try:\n",
    "    cal = 5/5\n",
    "    print(cal)\n",
    "except Exception as e:\n",
    "    print(e)\n",
    "finally:\n",
    "    print(5/5)\n",
    "\n",
    "print('after')"
   ]
  },
  {
   "cell_type": "code",
   "execution_count": null,
   "id": "6b2d2f50",
   "metadata": {},
   "outputs": [],
   "source": []
  }
 ],
 "metadata": {
  "kernelspec": {
   "display_name": "Python 3",
   "language": "python",
   "name": "python3"
  },
  "language_info": {
   "codemirror_mode": {
    "name": "ipython",
    "version": 3
   },
   "file_extension": ".py",
   "mimetype": "text/x-python",
   "name": "python",
   "nbconvert_exporter": "python",
   "pygments_lexer": "ipython3",
   "version": "3.11.9"
  }
 },
 "nbformat": 4,
 "nbformat_minor": 5
}
