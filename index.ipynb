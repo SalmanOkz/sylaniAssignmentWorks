{
 "cells": [
  {
   "cell_type": "code",
   "execution_count": 1,
   "id": "0b7dee0a",
   "metadata": {},
   "outputs": [
    {
     "name": "stdout",
     "output_type": "stream",
     "text": [
      "hello world\n"
     ]
    }
   ],
   "source": [
    "print(\"hello world\")"
   ]
  },
  {
   "cell_type": "code",
   "execution_count": 45,
   "id": "4e1fb67e",
   "metadata": {},
   "outputs": [],
   "source": [
    "customers = [\n",
    "{\n",
    "\"customer id\": 0,\n",
    "\"first name\":\"John\",\n",
    "\"last name\": \"Ogden\",\n",
    "\"address\": \"301 Arbor Rd.\",\n",
    "},\n",
    "{\n",
    "\"customer id\": 1,\n",
    "\"first name\":\"Ann\",\n",
    "\"last name\": \"Sattermyer\",\n",
    "\"address\": \"PO Box 1145\",\n",
    "},\n",
    "{\n",
    "\"customer id\": 2,\n",
    "\"first name\":\"Jill\",\n",
    "\"last name\": \"Somers\",\n",
    "\"address\": \"3 Main St.\",\n",
    "},\n",
    "]"
   ]
  },
  {
   "cell_type": "code",
   "execution_count": 55,
   "id": "3d10a106",
   "metadata": {},
   "outputs": [
    {
     "data": {
      "text/plain": [
       "{0: {'customer id': 0,\n",
       "  'first name': 'John',\n",
       "  'last name': 'Ogden',\n",
       "  'address': '301 Arbor Rd.',\n",
       "  'age': 30},\n",
       " 1: {'customer id': 1,\n",
       "  'first name': 'Ann',\n",
       "  'last name': 'Sattermyer',\n",
       "  'address': 'PO Box 1145',\n",
       "  'age': 30},\n",
       " 2: {'customer id': 2,\n",
       "  'first name': 'Jill',\n",
       "  'last name': 'Somers',\n",
       "  'address': '3 Main St.',\n",
       "  'age': 30}}"
      ]
     },
     "execution_count": 55,
     "metadata": {},
     "output_type": "execute_result"
    }
   ],
   "source": [
    "{customer['customer id']: customer\n",
    "  for customer in customers}"
   ]
  },
  {
   "cell_type": "code",
   "execution_count": 54,
   "id": "04d1a670",
   "metadata": {},
   "outputs": [
    {
     "data": {
      "text/plain": [
       "[{'customer id': 0,\n",
       "  'first name': 'John',\n",
       "  'last name': 'Ogden',\n",
       "  'address': '301 Arbor Rd.',\n",
       "  'age': 30},\n",
       " {'customer id': 1,\n",
       "  'first name': 'Ann',\n",
       "  'last name': 'Sattermyer',\n",
       "  'address': 'PO Box 1145',\n",
       "  'age': 30},\n",
       " {'customer id': 2,\n",
       "  'first name': 'Jill',\n",
       "  'last name': 'Somers',\n",
       "  'address': '3 Main St.',\n",
       "  'age': 30}]"
      ]
     },
     "execution_count": 54,
     "metadata": {},
     "output_type": "execute_result"
    }
   ],
   "source": [
    "customers"
   ]
  },
  {
   "cell_type": "code",
   "execution_count": 18,
   "id": "55fb1582",
   "metadata": {},
   "outputs": [],
   "source": [
    "for customer in customers:\n",
    "    customer['age'] = 10"
   ]
  },
  {
   "cell_type": "code",
   "execution_count": 56,
   "id": "dcbd98b0",
   "metadata": {},
   "outputs": [
    {
     "data": {
      "text/plain": [
       "{'customer id': 2,\n",
       " 'first name': 'Jill',\n",
       " 'last name': 'Somers',\n",
       " 'address': '3 Main St.',\n",
       " 'age': None}"
      ]
     },
     "execution_count": 56,
     "metadata": {},
     "output_type": "execute_result"
    }
   ],
   "source": [
    "customer"
   ]
  },
  {
   "cell_type": "code",
   "execution_count": 50,
   "id": "df063942",
   "metadata": {},
   "outputs": [
    {
     "data": {
      "text/plain": [
       "[30, 30, 30]"
      ]
     },
     "execution_count": 50,
     "metadata": {},
     "output_type": "execute_result"
    }
   ],
   "source": [
    "[customer.setdefault('age', 30) for customer in customers] "
   ]
  },
  {
   "cell_type": "code",
   "execution_count": null,
   "id": "6409f9eb",
   "metadata": {},
   "outputs": [],
   "source": [
    "for customer in customers:\n",
    "    {**customer, 'age':None}"
   ]
  },
  {
   "cell_type": "code",
   "execution_count": null,
   "id": "a05d94f4",
   "metadata": {},
   "outputs": [
    {
     "data": {
      "text/plain": [
       "[30, 30, 30]"
      ]
     },
     "execution_count": 29,
     "metadata": {},
     "output_type": "execute_result"
    }
   ],
   "source": [
    "customers = [{**customer ,'age':None} for customer in customers]"
   ]
  },
  {
   "cell_type": "code",
   "execution_count": 33,
   "id": "c6d32daa",
   "metadata": {},
   "outputs": [
    {
     "data": {
      "text/plain": [
       "[{'customer id': 0,\n",
       "  'first name': 'John',\n",
       "  'last name': 'Ogden',\n",
       "  'address': '301 Arbor Rd.',\n",
       "  'age': None},\n",
       " {'customer id': 1,\n",
       "  'first name': 'Ann',\n",
       "  'last name': 'Sattermyer',\n",
       "  'address': 'PO Box 1145',\n",
       "  'age': None},\n",
       " {'customer id': 2,\n",
       "  'first name': 'Jill',\n",
       "  'last name': 'Somers',\n",
       "  'address': '3 Main St.',\n",
       "  'age': None}]"
      ]
     },
     "execution_count": 33,
     "metadata": {},
     "output_type": "execute_result"
    }
   ],
   "source": [
    "new_dic_list_with_age = []\n",
    "\n",
    "for customer in customers:\n",
    "    customer.setdefault(\"age\")\n",
    "    new_dic_list_with_age.append(customer)\n",
    "\n",
    "new_dic_list_with_age"
   ]
  },
  {
   "cell_type": "code",
   "execution_count": 35,
   "id": "0eba4a7e",
   "metadata": {},
   "outputs": [],
   "source": [
    "new_dic_list_with_age = [{**customer, 'age': None} for customer in customers]"
   ]
  },
  {
   "cell_type": "code",
   "execution_count": 36,
   "id": "124d87be",
   "metadata": {},
   "outputs": [
    {
     "data": {
      "text/plain": [
       "[{'customer id': 0,\n",
       "  'first name': 'John',\n",
       "  'last name': 'Ogden',\n",
       "  'address': '301 Arbor Rd.',\n",
       "  'age': None},\n",
       " {'customer id': 1,\n",
       "  'first name': 'Ann',\n",
       "  'last name': 'Sattermyer',\n",
       "  'address': 'PO Box 1145',\n",
       "  'age': None},\n",
       " {'customer id': 2,\n",
       "  'first name': 'Jill',\n",
       "  'last name': 'Somers',\n",
       "  'address': '3 Main St.',\n",
       "  'age': None}]"
      ]
     },
     "execution_count": 36,
     "metadata": {},
     "output_type": "execute_result"
    }
   ],
   "source": [
    "new_dic_list_with_age"
   ]
  },
  {
   "cell_type": "code",
   "execution_count": 38,
   "id": "63997837",
   "metadata": {},
   "outputs": [
    {
     "data": {
      "text/plain": [
       "{0: {'customer id': 0,\n",
       "  'first name': 'John',\n",
       "  'last name': 'Ogden',\n",
       "  'address': '301 Arbor Rd.'},\n",
       " 1: {'customer id': 1,\n",
       "  'first name': 'Ann',\n",
       "  'last name': 'Sattermyer',\n",
       "  'address': 'PO Box 1145'},\n",
       " 2: {'customer id': 2,\n",
       "  'first name': 'Jill',\n",
       "  'last name': 'Somers',\n",
       "  'address': '3 Main St.'}}"
      ]
     },
     "execution_count": 38,
     "metadata": {},
     "output_type": "execute_result"
    }
   ],
   "source": [
    "{customer['customer id']: customer for customer in customers}"
   ]
  },
  {
   "cell_type": "code",
   "execution_count": null,
   "id": "f3c1925d",
   "metadata": {},
   "outputs": [
    {
     "data": {
      "text/plain": [
       "19.531249999999996"
      ]
     },
     "execution_count": 43,
     "metadata": {},
     "output_type": "execute_result"
    }
   ],
   "source": [
    "def bmi(height,weight):\n",
    "    body_mass = weight / (height **2)\n",
    "    return body_mass\n",
    "\n",
    "height = float(input(\"Enter Your height: \"))\n",
    "\n",
    "weight = float(input(\"Enter Your weight: \"))\n",
    "bmi(height,weight)"
   ]
  },
  {
   "cell_type": "code",
   "execution_count": null,
   "id": "496fcbaf",
   "metadata": {},
   "outputs": [],
   "source": [
    "#key-words argument's\n",
    "#positional_arguments"
   ]
  },
  {
   "cell_type": "code",
   "execution_count": 1,
   "id": "48e3bc5d",
   "metadata": {},
   "outputs": [
    {
     "data": {
      "text/plain": [
       "{'name': 'hammad', 'age': 22, 'city': 'Karachi'}"
      ]
     },
     "execution_count": 1,
     "metadata": {},
     "output_type": "execute_result"
    }
   ],
   "source": [
    "student_data = {}\n",
    "\n",
    "student_data['name']='hammad'\n",
    "student_data['age']=22\n",
    "student_data['city']='Karachi'\n",
    "\n",
    "student_data"
   ]
  },
  {
   "cell_type": "code",
   "execution_count": 2,
   "id": "929bcbed",
   "metadata": {},
   "outputs": [],
   "source": [
    "book = {\"title\": \"Python Basics\", \"author\": \"John Doe\", \"pages\": 300}\n",
    "# Change pages to 350\n",
    "# Add a new key \"price\" with value 29.99\n",
    "# Print all keys"
   ]
  },
  {
   "cell_type": "code",
   "execution_count": 4,
   "id": "9a34a2d2",
   "metadata": {},
   "outputs": [],
   "source": [
    "book['pages']  = 350"
   ]
  },
  {
   "cell_type": "code",
   "execution_count": 6,
   "id": "d86b864b",
   "metadata": {},
   "outputs": [
    {
     "data": {
      "text/plain": [
       "29.99"
      ]
     },
     "execution_count": 6,
     "metadata": {},
     "output_type": "execute_result"
    }
   ],
   "source": [
    "book\n",
    "book.setdefault('price',29.99)"
   ]
  },
  {
   "cell_type": "code",
   "execution_count": 7,
   "id": "b748d839",
   "metadata": {},
   "outputs": [
    {
     "data": {
      "text/plain": [
       "{'title': 'Python Basics', 'author': 'John Doe', 'pages': 350, 'price': 29.99}"
      ]
     },
     "execution_count": 7,
     "metadata": {},
     "output_type": "execute_result"
    }
   ],
   "source": [
    "book"
   ]
  },
  {
   "cell_type": "code",
   "execution_count": 10,
   "id": "453a018d",
   "metadata": {},
   "outputs": [],
   "source": [
    "numbers = [1, 2, 3, 4, 5]\n",
    "number_dict = {}"
   ]
  },
  {
   "cell_type": "code",
   "execution_count": 23,
   "id": "c4fe7f8a",
   "metadata": {},
   "outputs": [],
   "source": [
    "number_dict = {num:num**2 for num in numbers}"
   ]
  },
  {
   "cell_type": "code",
   "execution_count": 24,
   "id": "5013d48b",
   "metadata": {},
   "outputs": [
    {
     "data": {
      "text/plain": [
       "{1: 1, 2: 4, 3: 9, 4: 16, 5: 25}"
      ]
     },
     "execution_count": 24,
     "metadata": {},
     "output_type": "execute_result"
    }
   ],
   "source": [
    "number_dict"
   ]
  },
  {
   "cell_type": "code",
   "execution_count": 25,
   "id": "a540bec3",
   "metadata": {},
   "outputs": [],
   "source": [
    "dict1 = {\"a\": 1, \"b\": 2}\n",
    "dict2 = {\"c\": 3, \"d\": 4}\n",
    "# Merge them into a new dictionary\n",
    "new_dict = dict1 | dict2"
   ]
  },
  {
   "cell_type": "code",
   "execution_count": 26,
   "id": "bc164ddd",
   "metadata": {},
   "outputs": [
    {
     "data": {
      "text/plain": [
       "{'a': 1, 'b': 2, 'c': 3, 'd': 4}"
      ]
     },
     "execution_count": 26,
     "metadata": {},
     "output_type": "execute_result"
    }
   ],
   "source": [
    "new_dict"
   ]
  },
  {
   "cell_type": "code",
   "execution_count": 35,
   "id": "2b4e01f2",
   "metadata": {},
   "outputs": [],
   "source": [
    "sentence = \"the quick brown fox jumps over the lazy dog\"\n",
    "# Count frequency of each word\n",
    "# Output: {'the': 2, 'quick': 1, 'brown': 1, ...}\n",
    "dict_sentence = {sentence}\n",
    "\n",
    "word_counts = sentence.lower().split()\n",
    "\n",
    "word_dic = {}\n",
    "\n",
    "for word_count in word_counts:\n",
    "    if word_count in word_dic:\n",
    "        word_dic[word_count] += 1\n",
    "    else:\n",
    "        word_dic[word_count] = 1\n",
    "\n"
   ]
  },
  {
   "cell_type": "code",
   "execution_count": 36,
   "id": "96312e99",
   "metadata": {},
   "outputs": [
    {
     "data": {
      "text/plain": [
       "{'the': 2,\n",
       " 'quick': 1,\n",
       " 'brown': 1,\n",
       " 'fox': 1,\n",
       " 'jumps': 1,\n",
       " 'over': 1,\n",
       " 'lazy': 1,\n",
       " 'dog': 1}"
      ]
     },
     "execution_count": 36,
     "metadata": {},
     "output_type": "execute_result"
    }
   ],
   "source": [
    "word_dic"
   ]
  },
  {
   "cell_type": "code",
   "execution_count": null,
   "id": "dee4f34d",
   "metadata": {},
   "outputs": [
    {
     "name": "stdout",
     "output_type": "stream",
     "text": [
      "1\n",
      "2\n",
      "3\n"
     ]
    }
   ],
   "source": [
    "def gen():\n",
    "    yield 1\n",
    "    yield 2\n",
    "    yield 3\n",
    "\n",
    "g = gen()\n",
    "print(next(g))\n",
    "print(next(g))\n",
    "\n"
   ]
  },
  {
   "cell_type": "code",
   "execution_count": 33,
   "id": "2ca19198",
   "metadata": {},
   "outputs": [
    {
     "name": "stdout",
     "output_type": "stream",
     "text": [
      "1 2 3 1 2 "
     ]
    }
   ],
   "source": [
    "import itertools\n",
    "c = itertools.cycle([1,2,3])\n",
    "for i in range(5):\n",
    "    print(next(c), end=\" \")\n"
   ]
  },
  {
   "cell_type": "code",
   "execution_count": null,
   "id": "3ef41dd2",
   "metadata": {},
   "outputs": [],
   "source": []
  }
 ],
 "metadata": {
  "kernelspec": {
   "display_name": "Python 3",
   "language": "python",
   "name": "python3"
  },
  "language_info": {
   "codemirror_mode": {
    "name": "ipython",
    "version": 3
   },
   "file_extension": ".py",
   "mimetype": "text/x-python",
   "name": "python",
   "nbconvert_exporter": "python",
   "pygments_lexer": "ipython3",
   "version": "3.11.9"
  }
 },
 "nbformat": 4,
 "nbformat_minor": 5
}
